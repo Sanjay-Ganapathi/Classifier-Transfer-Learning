{
 "cells": [
  {
   "cell_type": "code",
   "execution_count": 1,
   "metadata": {},
   "outputs": [],
   "source": [
    "import os"
   ]
  },
  {
   "cell_type": "code",
   "execution_count": 2,
   "metadata": {},
   "outputs": [],
   "source": [
    "train_dir = os.path.join('./dataset/train/')\n",
    "test_dir = os.path.join('./dataset/test/')"
   ]
  },
  {
   "cell_type": "code",
   "execution_count": 12,
   "metadata": {},
   "outputs": [
    {
     "name": "stdout",
     "output_type": "stream",
     "text": [
      "Found 442 images belonging to 2 classes.\n",
      "Found 100 images belonging to 2 classes.\n"
     ]
    }
   ],
   "source": [
    "from tensorflow.keras.preprocessing.image import ImageDataGenerator\n",
    "\n",
    "\n",
    "train_datagen = ImageDataGenerator(rescale = 1/255,rotation_range=30,zoom_range=0.2,width_shift_range=0.1,  \n",
    "                                      height_shift_range=0.1)\n",
    "    \n",
    "test_datagen = ImageDataGenerator(rescale = 1/255)\n",
    "    \n",
    "train_generator = train_datagen.flow_from_directory(train_dir,target_size=(125,125),class_mode='categorical')\n",
    "                                                        \n",
    "                                                        \n",
    "    \n",
    "test_generator = test_datagen.flow_from_directory(test_dir,target_size=(125,125),class_mode='categorical')"
   ]
  },
  {
   "cell_type": "code",
   "execution_count": 14,
   "metadata": {},
   "outputs": [],
   "source": [
    "from tensorflow.keras.applications.xception import Xception\n",
    "from tensorflow.keras.models import Sequential\n",
    "from tensorflow.keras.layers import Dense,Flatten,GlobalAveragePooling2D,Dropout\n",
    "\n",
    "num_classes = 2\n",
    "\n",
    "base_model = Xception(input_shape=(125,125,3),include_top = False,weights = 'imagenet')\n",
    "\n",
    "model = Sequential()\n",
    "model.add(base_model)\n",
    "model.add(Flatten())\n",
    "model.add(Dense(512,activation='relu'))\n",
    "model.add(Dropout(0.2))\n",
    "model.add(Dense(num_classes,activation='softmax'))\n",
    "\n",
    "model.layers[0].trainable = False"
   ]
  },
  {
   "cell_type": "code",
   "execution_count": 15,
   "metadata": {},
   "outputs": [],
   "source": [
    "model.compile(optimizer='adam',loss = 'categorical_crossentropy',metrics = ['accuracy'])\n"
   ]
  },
  {
   "cell_type": "code",
   "execution_count": 16,
   "metadata": {},
   "outputs": [
    {
     "name": "stdout",
     "output_type": "stream",
     "text": [
      "Epoch 1/20\n",
      " 5/10 [==============>...............] - ETA: 7s - loss: 7.2172 - accuracy: 0.5779"
     ]
    },
    {
     "name": "stderr",
     "output_type": "stream",
     "text": [
      "C:\\Users\\ganas\\.conda\\envs\\tfcuda\\lib\\site-packages\\PIL\\Image.py:961: UserWarning: Palette images with Transparency expressed in bytes should be converted to RGBA images\n",
      "  \"Palette images with Transparency expressed in bytes should be \"\n"
     ]
    },
    {
     "name": "stdout",
     "output_type": "stream",
     "text": [
      "10/10 [==============================] - 18s 2s/step - loss: 5.7134 - accuracy: 0.6051 - val_loss: 1.9527 - val_accuracy: 0.6500\n",
      "Epoch 2/20\n",
      "10/10 [==============================] - 12s 1s/step - loss: 2.3359 - accuracy: 0.6750 - val_loss: 1.0976 - val_accuracy: 0.7600\n",
      "Epoch 3/20\n",
      "10/10 [==============================] - 12s 1s/step - loss: 1.7135 - accuracy: 0.7281 - val_loss: 1.0540 - val_accuracy: 0.7500\n",
      "Epoch 4/20\n",
      "10/10 [==============================] - 12s 1s/step - loss: 1.0290 - accuracy: 0.7281 - val_loss: 0.5933 - val_accuracy: 0.7900\n",
      "Epoch 5/20\n",
      "10/10 [==============================] - 12s 1s/step - loss: 0.6784 - accuracy: 0.7643 - val_loss: 0.8981 - val_accuracy: 0.6600\n",
      "Epoch 6/20\n",
      "10/10 [==============================] - 12s 1s/step - loss: 0.6550 - accuracy: 0.7420 - val_loss: 0.4362 - val_accuracy: 0.7900\n",
      "Epoch 7/20\n",
      "10/10 [==============================] - 11s 1s/step - loss: 0.5962 - accuracy: 0.7548 - val_loss: 0.6514 - val_accuracy: 0.6700\n",
      "Epoch 8/20\n",
      "10/10 [==============================] - 12s 1s/step - loss: 0.3651 - accuracy: 0.8408 - val_loss: 0.4361 - val_accuracy: 0.8000\n",
      "Epoch 9/20\n",
      "10/10 [==============================] - 12s 1s/step - loss: 0.3290 - accuracy: 0.8406 - val_loss: 0.4308 - val_accuracy: 0.8200\n",
      "Epoch 10/20\n",
      "10/10 [==============================] - 12s 1s/step - loss: 0.3055 - accuracy: 0.8631 - val_loss: 0.4990 - val_accuracy: 0.7500\n",
      "Epoch 11/20\n",
      "10/10 [==============================] - 12s 1s/step - loss: 0.2926 - accuracy: 0.8854 - val_loss: 0.4970 - val_accuracy: 0.7600\n",
      "Epoch 12/20\n",
      "10/10 [==============================] - 12s 1s/step - loss: 0.2626 - accuracy: 0.9013 - val_loss: 0.6205 - val_accuracy: 0.7000\n",
      "Epoch 13/20\n",
      "10/10 [==============================] - 12s 1s/step - loss: 0.3151 - accuracy: 0.8844 - val_loss: 0.5236 - val_accuracy: 0.7400\n",
      "Epoch 14/20\n",
      "10/10 [==============================] - 12s 1s/step - loss: 0.2475 - accuracy: 0.8949 - val_loss: 0.4155 - val_accuracy: 0.8100\n",
      "Epoch 15/20\n",
      "10/10 [==============================] - 12s 1s/step - loss: 0.2117 - accuracy: 0.9013 - val_loss: 0.4544 - val_accuracy: 0.8100\n",
      "Epoch 16/20\n",
      "10/10 [==============================] - 12s 1s/step - loss: 0.2117 - accuracy: 0.9076 - val_loss: 0.3949 - val_accuracy: 0.8700\n",
      "Epoch 17/20\n",
      "10/10 [==============================] - 12s 1s/step - loss: 0.1855 - accuracy: 0.9438 - val_loss: 0.4590 - val_accuracy: 0.8300\n",
      "Epoch 18/20\n",
      "10/10 [==============================] - 12s 1s/step - loss: 0.2183 - accuracy: 0.9299 - val_loss: 0.4474 - val_accuracy: 0.8500\n",
      "Epoch 19/20\n",
      "10/10 [==============================] - 12s 1s/step - loss: 0.1821 - accuracy: 0.9268 - val_loss: 0.4884 - val_accuracy: 0.8000\n",
      "Epoch 20/20\n",
      "10/10 [==============================] - 14s 1s/step - loss: 0.2303 - accuracy: 0.8938 - val_loss: 0.4774 - val_accuracy: 0.7900\n"
     ]
    },
    {
     "data": {
      "text/plain": [
       "<tensorflow.python.keras.callbacks.History at 0x25d864ffec8>"
      ]
     },
     "execution_count": 16,
     "metadata": {},
     "output_type": "execute_result"
    }
   ],
   "source": [
    "model.fit(train_generator,\n",
    "         steps_per_epoch=10,\n",
    "         epochs = 20,\n",
    "          verbose=1,\n",
    "         validation_data=test_generator)"
   ]
  },
  {
   "cell_type": "code",
   "execution_count": 17,
   "metadata": {},
   "outputs": [],
   "source": [
    "model.save('model.hdf5')"
   ]
  },
  {
   "cell_type": "code",
   "execution_count": null,
   "metadata": {},
   "outputs": [],
   "source": []
  }
 ],
 "metadata": {
  "kernelspec": {
   "display_name": "tfcuda",
   "language": "python",
   "name": "tfcuda"
  },
  "language_info": {
   "codemirror_mode": {
    "name": "ipython",
    "version": 3
   },
   "file_extension": ".py",
   "mimetype": "text/x-python",
   "name": "python",
   "nbconvert_exporter": "python",
   "pygments_lexer": "ipython3",
   "version": "3.7.7"
  }
 },
 "nbformat": 4,
 "nbformat_minor": 4
}
