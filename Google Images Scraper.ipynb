{
 "cells": [
  {
   "cell_type": "code",
   "execution_count": 13,
   "metadata": {},
   "outputs": [],
   "source": [
    "import selenium\n",
    "import os\n",
    "import time\n",
    "from PIL import Image\n",
    "import requests\n",
    "import io\n",
    "import hashlib\n",
    "from selenium import webdriver\n",
    "\n",
    "DRIVER_PATH = 'C:/Users/ganas/Documents/chromedriver.exe'"
   ]
  },
  {
   "cell_type": "code",
   "execution_count": 14,
   "metadata": {},
   "outputs": [],
   "source": [
    "wd = webdriver.Chrome(executable_path=DRIVER_PATH)"
   ]
  },
  {
   "cell_type": "code",
   "execution_count": 15,
   "metadata": {},
   "outputs": [],
   "source": [
    "def fetch_image_urls(query:str, max_links_to_fetch:int, wd:webdriver, sleep_between_interactions:int=1):\n",
    "    def scroll_to_end(wd):\n",
    "        wd.execute_script(\"window.scrollTo(0, document.body.scrollHeight);\")\n",
    "        time.sleep(sleep_between_interactions)    \n",
    "    \n",
    "    # build the google query\n",
    "    search_url = \"https://www.google.com/search?safe=off&site=&tbm=isch&source=hp&q={q}&oq={q}&gs_l=img\"\n",
    "\n",
    "    # load the page\n",
    "    wd.get(search_url.format(q=query))\n",
    "\n",
    "    image_urls = set()\n",
    "    image_count = 0\n",
    "    results_start = 0\n",
    "    while image_count < max_links_to_fetch:\n",
    "        scroll_to_end(wd)\n",
    "\n",
    "        # get all image thumbnail results\n",
    "        thumbnail_results = wd.find_elements_by_css_selector(\"img.Q4LuWd\")\n",
    "        number_results = len(thumbnail_results)\n",
    "        \n",
    "        print(f\"Found: {number_results} search results. Extracting links from {results_start}:{number_results}\")\n",
    "        \n",
    "        for img in thumbnail_results[results_start:number_results]:\n",
    "            # try to click every thumbnail such that we can get the real image behind it\n",
    "            try:\n",
    "                img.click()\n",
    "                time.sleep(sleep_between_interactions)\n",
    "            except Exception:\n",
    "                continue\n",
    "\n",
    "            # extract image urls    \n",
    "            actual_images = wd.find_elements_by_css_selector('img.n3VNCb')\n",
    "            for actual_image in actual_images:\n",
    "                if actual_image.get_attribute('src') and 'http' in actual_image.get_attribute('src'):\n",
    "                    image_urls.add(actual_image.get_attribute('src'))\n",
    "\n",
    "            image_count = len(image_urls)\n",
    "\n",
    "            if len(image_urls) >= max_links_to_fetch:\n",
    "                print(f\"Found: {len(image_urls)} image links, done!\")\n",
    "                break\n",
    "        else:\n",
    "            print(\"Found:\", len(image_urls), \"image links, looking for more ...\")\n",
    "            time.sleep(30)\n",
    "            return\n",
    "            load_more_button = wd.find_element_by_css_selector(\".mye4qd\")\n",
    "            if load_more_button:\n",
    "                wd.execute_script(\"document.querySelector('.mye4qd').click();\")\n",
    "\n",
    "        # move the result startpoint further down\n",
    "        results_start = len(thumbnail_results)\n",
    "\n",
    "    return image_urls"
   ]
  },
  {
   "cell_type": "code",
   "execution_count": 16,
   "metadata": {},
   "outputs": [],
   "source": [
    "def persist_image(folder_path:str,url:str):\n",
    "    try:\n",
    "        image_content = requests.get(url).content\n",
    "\n",
    "    except Exception as e:\n",
    "        print(f\"ERROR - Could not download {url} - {e}\")\n",
    "\n",
    "    try:\n",
    "        image_file = io.BytesIO(image_content)\n",
    "        image = Image.open(image_file).convert('RGB')\n",
    "        file_path = os.path.join(folder_path,hashlib.sha1(image_content).hexdigest()[:10] + '.jpg')\n",
    "        with open(file_path, 'wb') as f:\n",
    "            image.save(f, \"JPEG\", quality=85)\n",
    "        print(f\"SUCCESS - saved {url} - as {file_path}\")\n",
    "    except Exception as e:\n",
    "        print(f\"ERROR - Could not save {url} - {e}\")"
   ]
  },
  {
   "cell_type": "code",
   "execution_count": 17,
   "metadata": {},
   "outputs": [],
   "source": [
    "def search_and_download(search_term:str,driver_path:str,target_path='./images',number_images=5):\n",
    "    target_folder = os.path.join(target_path,'_'.join(search_term.lower().split(' ')))\n",
    "\n",
    "    if not os.path.exists(target_folder):\n",
    "        os.makedirs(target_folder)\n",
    "\n",
    "    with webdriver.Chrome(executable_path=driver_path) as wd:\n",
    "        res = fetch_image_urls(search_term, number_images, wd=wd, sleep_between_interactions=0.5)\n",
    "        \n",
    "    for elem in res:\n",
    "        persist_image(target_folder,elem)"
   ]
  },
  {
   "cell_type": "code",
   "execution_count": 25,
   "metadata": {},
   "outputs": [
    {
     "name": "stdout",
     "output_type": "stream",
     "text": [
      "Found: 100 search results. Extracting links from 0:100\n",
      "Found: 50 image links, done!\n",
      "SUCCESS - saved https://encrypted-tbn0.gstatic.com/images?q=tbn%3AANd9GcRwox26cDSfOeEA0LY60u3yF_2hm4J2J10L1Q&usqp=CAU - as ./images\\jeff_bezos_unique_images\\5cdfe24b80.jpg\n",
      "SUCCESS - saved https://encrypted-tbn0.gstatic.com/images?q=tbn%3AANd9GcSPRX1WVrBvrbRNyjIviz6xGUqAMZ2NriSHsA&usqp=CAU - as ./images\\jeff_bezos_unique_images\\5a72b8a6ae.jpg\n",
      "SUCCESS - saved https://encrypted-tbn0.gstatic.com/images?q=tbn%3AANd9GcSmEsm0zPKAAnzWWLvuvYyv5NMYXBSJsnFlNg&usqp=CAU - as ./images\\jeff_bezos_unique_images\\69a780cace.jpg\n",
      "SUCCESS - saved https://encrypted-tbn0.gstatic.com/images?q=tbn%3AANd9GcSFVj8KSWYL2DOBVXClBILMTObV-kJ-Y1FCNg&usqp=CAU - as ./images\\jeff_bezos_unique_images\\10d12f702b.jpg\n",
      "SUCCESS - saved https://encrypted-tbn0.gstatic.com/images?q=tbn%3AANd9GcS5j0SqYS2qbz7rjb2buHVifDpn1lvXvQrKfQ&usqp=CAU - as ./images\\jeff_bezos_unique_images\\3a7287dc5b.jpg\n",
      "SUCCESS - saved https://encrypted-tbn0.gstatic.com/images?q=tbn%3AANd9GcTzQsgdyTLgwyJhsa_igR2PjHv54VPXnCdiHg&usqp=CAU - as ./images\\jeff_bezos_unique_images\\88eea81b21.jpg\n",
      "SUCCESS - saved https://encrypted-tbn0.gstatic.com/images?q=tbn%3AANd9GcQMSy5fhd3P0P5jKAV8MckcjHp6K4OD1DntJg&usqp=CAU - as ./images\\jeff_bezos_unique_images\\d82f8145ba.jpg\n",
      "SUCCESS - saved https://encrypted-tbn0.gstatic.com/images?q=tbn%3AANd9GcRstz2mML9Dm8Tn8JXnOhzhs-QD7NFtfIRUOg&usqp=CAU - as ./images\\jeff_bezos_unique_images\\aa118aea87.jpg\n",
      "SUCCESS - saved https://encrypted-tbn0.gstatic.com/images?q=tbn%3AANd9GcQpt1L45I9ArpvwNQEdeisKCW4B3vLHHdzy0A&usqp=CAU - as ./images\\jeff_bezos_unique_images\\c5f9e5705e.jpg\n",
      "SUCCESS - saved https://encrypted-tbn0.gstatic.com/images?q=tbn%3AANd9GcTK9L1zu2KIXc2MQMv2NVfN61Q_Sv91brHTHw&usqp=CAU - as ./images\\jeff_bezos_unique_images\\bd267b2320.jpg\n",
      "SUCCESS - saved https://encrypted-tbn0.gstatic.com/images?q=tbn%3AANd9GcR60dXEkUBorEXBoyvSj-dsbBtc1wcmk75vkQ&usqp=CAU - as ./images\\jeff_bezos_unique_images\\d41b82909d.jpg\n",
      "SUCCESS - saved https://encrypted-tbn0.gstatic.com/images?q=tbn%3AANd9GcQp-hs_oRVXO6o0TDoH_SMvszFc1-ql7aNFMA&usqp=CAU - as ./images\\jeff_bezos_unique_images\\ed58ef1df6.jpg\n",
      "SUCCESS - saved https://encrypted-tbn0.gstatic.com/images?q=tbn%3AANd9GcSJF3NFivuwrrDEFRgseNg5nPqlB7_7gM5xWQ&usqp=CAU - as ./images\\jeff_bezos_unique_images\\9e2527ede1.jpg\n",
      "SUCCESS - saved https://encrypted-tbn0.gstatic.com/images?q=tbn%3AANd9GcTiWH-RyCexyE7HfjW7FJ3eSK5a3t0zfNzJAg&usqp=CAU - as ./images\\jeff_bezos_unique_images\\8aafd18da7.jpg\n",
      "SUCCESS - saved https://encrypted-tbn0.gstatic.com/images?q=tbn%3AANd9GcTPTEzPeQI5CAC8GxyGGjzOxb8tpThG5FTAwg&usqp=CAU - as ./images\\jeff_bezos_unique_images\\e0843be3c0.jpg\n",
      "SUCCESS - saved https://encrypted-tbn0.gstatic.com/images?q=tbn%3AANd9GcSjt72ceRPSo_NlxJoT_M8ggH6OLJUm4_eEfw&usqp=CAU - as ./images\\jeff_bezos_unique_images\\e900f1a9b7.jpg\n",
      "SUCCESS - saved https://encrypted-tbn0.gstatic.com/images?q=tbn%3AANd9GcSvCWHjkQrr1JRUsQ30_rwS44DRP-F_Xfrtdg&usqp=CAU - as ./images\\jeff_bezos_unique_images\\26f960c3ab.jpg\n",
      "SUCCESS - saved https://encrypted-tbn0.gstatic.com/images?q=tbn%3AANd9GcQXEDX_CclCnFW6C-Jmh_Rzjq5GApHOJ95hmQ&usqp=CAU - as ./images\\jeff_bezos_unique_images\\b2847da4d8.jpg\n",
      "SUCCESS - saved https://encrypted-tbn0.gstatic.com/images?q=tbn%3AANd9GcS6zWci95skCcog70CK2RkJL6Nuv8A4q9qJBw&usqp=CAU - as ./images\\jeff_bezos_unique_images\\1bbdb470fe.jpg\n",
      "SUCCESS - saved https://encrypted-tbn0.gstatic.com/images?q=tbn%3AANd9GcQ08RlE5-X6og_ftabtU9ghkBP1a-GgibxAgA&usqp=CAU - as ./images\\jeff_bezos_unique_images\\550b0ca62d.jpg\n",
      "SUCCESS - saved https://encrypted-tbn0.gstatic.com/images?q=tbn%3AANd9GcRnowP7udyw7V5zQnD46C_X40cgBjV9po-kjQ&usqp=CAU - as ./images\\jeff_bezos_unique_images\\232e127236.jpg\n",
      "SUCCESS - saved https://encrypted-tbn0.gstatic.com/images?q=tbn%3AANd9GcRFJLbULs865eQJFi0vNRScUCdgvyDP5YAg9w&usqp=CAU - as ./images\\jeff_bezos_unique_images\\2dba5c2a65.jpg\n",
      "SUCCESS - saved https://encrypted-tbn0.gstatic.com/images?q=tbn%3AANd9GcRmAFggclTZfzTDelpVhhNwYe3BXLZegQGmOw&usqp=CAU - as ./images\\jeff_bezos_unique_images\\ea170f01b4.jpg\n",
      "SUCCESS - saved https://encrypted-tbn0.gstatic.com/images?q=tbn%3AANd9GcTRKLaJ9yLtLeUhSoJUdkos2e4mu4wYoXUmEA&usqp=CAU - as ./images\\jeff_bezos_unique_images\\1568884cdd.jpg\n",
      "SUCCESS - saved https://encrypted-tbn0.gstatic.com/images?q=tbn%3AANd9GcS4s8xilWIIuMH9GQ6vrPEcGqOSxszMbVvQpA&usqp=CAU - as ./images\\jeff_bezos_unique_images\\2ceaebd9d1.jpg\n",
      "SUCCESS - saved https://encrypted-tbn0.gstatic.com/images?q=tbn%3AANd9GcQXWG_bigF52hKZ-87wT8sxH2KponeT8_bV5Q&usqp=CAU - as ./images\\jeff_bezos_unique_images\\50b82b8481.jpg\n",
      "SUCCESS - saved https://encrypted-tbn0.gstatic.com/images?q=tbn%3AANd9GcRMyXhaB-eUafEmPLjnv_emiSqSbafciguqGA&usqp=CAU - as ./images\\jeff_bezos_unique_images\\11945f94fa.jpg\n",
      "SUCCESS - saved https://encrypted-tbn0.gstatic.com/images?q=tbn%3AANd9GcTiDSDJ_3MhEjo9OZSzJKmC6288gLpMKPemvQ&usqp=CAU - as ./images\\jeff_bezos_unique_images\\7e09d60660.jpg\n",
      "SUCCESS - saved https://encrypted-tbn0.gstatic.com/images?q=tbn%3AANd9GcSzZHpHpjxTMGUWsW9xFZp3apFwdQP0gDLjTw&usqp=CAU - as ./images\\jeff_bezos_unique_images\\3ffb9230e2.jpg\n",
      "SUCCESS - saved https://encrypted-tbn0.gstatic.com/images?q=tbn%3AANd9GcRObqyGlRHGsTsXaE8m1IsyhpUseD4futTZUA&usqp=CAU - as ./images\\jeff_bezos_unique_images\\fff64d522a.jpg\n",
      "SUCCESS - saved https://encrypted-tbn0.gstatic.com/images?q=tbn%3AANd9GcSl5OJTcUj6S2o4IACKqApI8QiWebZ-0ebVIw&usqp=CAU - as ./images\\jeff_bezos_unique_images\\f4dcdbe322.jpg\n",
      "SUCCESS - saved https://encrypted-tbn0.gstatic.com/images?q=tbn%3AANd9GcSHL4d8oIDAZWDoxRqSqOSvl3zvnLOuyHcz4A&usqp=CAU - as ./images\\jeff_bezos_unique_images\\4c2c0b4ce6.jpg\n",
      "SUCCESS - saved https://encrypted-tbn0.gstatic.com/images?q=tbn%3AANd9GcQOr0qHc_ilJPxeM_z1mH1P-JWxkqfa4V4NZg&usqp=CAU - as ./images\\jeff_bezos_unique_images\\9dc2943b31.jpg\n",
      "SUCCESS - saved https://encrypted-tbn0.gstatic.com/images?q=tbn%3AANd9GcQd9JSsPFAzMmCFah-DJlMUX5TsLP9QPZQ0Ng&usqp=CAU - as ./images\\jeff_bezos_unique_images\\1d5eca9640.jpg\n",
      "SUCCESS - saved https://encrypted-tbn0.gstatic.com/images?q=tbn%3AANd9GcSffVNdHtvywAjy41p73zzFM9S8mkfywOjnKg&usqp=CAU - as ./images\\jeff_bezos_unique_images\\ff5e82494e.jpg\n",
      "SUCCESS - saved https://encrypted-tbn0.gstatic.com/images?q=tbn%3AANd9GcTwKmBCsy5H4tk5OMvoZrDMIHlmu0kCOf7ndA&usqp=CAU - as ./images\\jeff_bezos_unique_images\\626e9d6b05.jpg\n",
      "SUCCESS - saved https://encrypted-tbn0.gstatic.com/images?q=tbn%3AANd9GcTL28UJRQQrHGgNq53gwviOZmTD-inMOQr7sQ&usqp=CAU - as ./images\\jeff_bezos_unique_images\\70d2bc47ad.jpg\n",
      "SUCCESS - saved https://encrypted-tbn0.gstatic.com/images?q=tbn%3AANd9GcT3lGg6kIU0H_x4WoyNLyOfU_d6mozNd0eC0w&usqp=CAU - as ./images\\jeff_bezos_unique_images\\cf3090cbfe.jpg\n",
      "SUCCESS - saved https://encrypted-tbn0.gstatic.com/images?q=tbn%3AANd9GcQ-TTf4YoZD6TAzWM18itkyG1h8VKeT_kcLzA&usqp=CAU - as ./images\\jeff_bezos_unique_images\\6f1cc2b9db.jpg\n",
      "SUCCESS - saved https://encrypted-tbn0.gstatic.com/images?q=tbn%3AANd9GcTxRwbDqilxXcNCiZBEi0mQvQvHojSMlsDuCg&usqp=CAU - as ./images\\jeff_bezos_unique_images\\cfa285387b.jpg\n",
      "SUCCESS - saved https://encrypted-tbn0.gstatic.com/images?q=tbn%3AANd9GcS3PBZqbl3-fkQIPC7q3K81eRABVHnE3WcRgA&usqp=CAU - as ./images\\jeff_bezos_unique_images\\dd82413271.jpg\n",
      "SUCCESS - saved https://encrypted-tbn0.gstatic.com/images?q=tbn%3AANd9GcQ1bhcuYxiM3bbKR5muydRdaA9QsyUOFhAr7w&usqp=CAU - as ./images\\jeff_bezos_unique_images\\5c8f2fd2c0.jpg\n",
      "SUCCESS - saved https://encrypted-tbn0.gstatic.com/images?q=tbn%3AANd9GcQ3uW7jmOkDm7dUHsFdALqtZbYy5Ykt21_Pvw&usqp=CAU - as ./images\\jeff_bezos_unique_images\\0d6fb36f22.jpg\n",
      "SUCCESS - saved https://encrypted-tbn0.gstatic.com/images?q=tbn%3AANd9GcRNeLgp2PMzsVwVnfceuW-m_FnQoTTpsEmqsQ&usqp=CAU - as ./images\\jeff_bezos_unique_images\\1277812706.jpg\n",
      "SUCCESS - saved https://encrypted-tbn0.gstatic.com/images?q=tbn%3AANd9GcT-E2Eo41wNqxcdaS4AzBYcWhgn5FTy7ENkOQ&usqp=CAU - as ./images\\jeff_bezos_unique_images\\1d1900f0d8.jpg\n",
      "SUCCESS - saved https://encrypted-tbn0.gstatic.com/images?q=tbn%3AANd9GcQiQB8ASoo5aRp6VVB1dDrC87hin5ZEC5JV_Q&usqp=CAU - as ./images\\jeff_bezos_unique_images\\3d667b7140.jpg\n",
      "SUCCESS - saved https://encrypted-tbn0.gstatic.com/images?q=tbn%3AANd9GcQbXuwBRbzj75njbIygTSGH21ObkpNCv2zCqg&usqp=CAU - as ./images\\jeff_bezos_unique_images\\5c8f04955d.jpg\n",
      "SUCCESS - saved https://encrypted-tbn0.gstatic.com/images?q=tbn%3AANd9GcQcg8QlzrA3oeE4CGPS-o_k-l36vvoOdkCUYw&usqp=CAU - as ./images\\jeff_bezos_unique_images\\8a0c716a7c.jpg\n"
     ]
    },
    {
     "name": "stdout",
     "output_type": "stream",
     "text": [
      "SUCCESS - saved https://encrypted-tbn0.gstatic.com/images?q=tbn%3AANd9GcSDmB8Z8anaKwfBE1VCy2P9zWXLyWkoh3_lag&usqp=CAU - as ./images\\jeff_bezos_unique_images\\153fdbcea2.jpg\n",
      "SUCCESS - saved https://encrypted-tbn0.gstatic.com/images?q=tbn%3AANd9GcRr-J2E6dlLxOAuICLwFG-8gWcJDER3BTlZBw&usqp=CAU - as ./images\\jeff_bezos_unique_images\\ef7281e0a3.jpg\n"
     ]
    }
   ],
   "source": [
    "search_term = 'jeff bezos unique images'\n",
    "\n",
    "search_and_download(search_term = search_term,\n",
    "                   driver_path=DRIVER_PATH,number_images=50)"
   ]
  },
  {
   "cell_type": "code",
   "execution_count": 29,
   "metadata": {
    "scrolled": false
   },
   "outputs": [],
   "source": [
    "for filename in os.listdir('./dataset/test/jeff bezos/'):\n",
    "  if filename.endswith('.jpg'):\n",
    "    try:\n",
    "      img = Image.open('./dataset/test/jeff bezos/'+filename) # open the image file\n",
    "      img.verify() # verify that it is, in fact an image\n",
    "    except (IOError, SyntaxError) as e:\n",
    "      print('Bad file:', filename)"
   ]
  },
  {
   "cell_type": "code",
   "execution_count": null,
   "metadata": {},
   "outputs": [],
   "source": []
  }
 ],
 "metadata": {
  "kernelspec": {
   "display_name": "tfcuda",
   "language": "python",
   "name": "tfcuda"
  },
  "language_info": {
   "codemirror_mode": {
    "name": "ipython",
    "version": 3
   },
   "file_extension": ".py",
   "mimetype": "text/x-python",
   "name": "python",
   "nbconvert_exporter": "python",
   "pygments_lexer": "ipython3",
   "version": "3.7.7"
  }
 },
 "nbformat": 4,
 "nbformat_minor": 4
}
