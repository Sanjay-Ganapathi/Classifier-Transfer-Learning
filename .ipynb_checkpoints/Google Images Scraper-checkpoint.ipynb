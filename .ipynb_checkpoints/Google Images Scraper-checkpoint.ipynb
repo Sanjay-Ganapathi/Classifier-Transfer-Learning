{
 "cells": [
  {
   "cell_type": "code",
   "execution_count": 1,
   "metadata": {},
   "outputs": [],
   "source": [
    "import selenium\n",
    "import os\n",
    "import time\n",
    "from PIL import Image\n",
    "import requests\n",
    "import io\n",
    "import hashlib\n",
    "\n",
    "DRIVER_PATH = 'C:/Users/ganas/Documents/chromedriver.exe'"
   ]
  },
  {
   "cell_type": "code",
   "execution_count": 2,
   "metadata": {},
   "outputs": [
    {
     "ename": "NameError",
     "evalue": "name 'webdriver' is not defined",
     "output_type": "error",
     "traceback": [
      "\u001b[1;31m---------------------------------------------------------------------------\u001b[0m",
      "\u001b[1;31mNameError\u001b[0m                                 Traceback (most recent call last)",
      "\u001b[1;32m<ipython-input-2-442e325ff30f>\u001b[0m in \u001b[0;36m<module>\u001b[1;34m\u001b[0m\n\u001b[1;32m----> 1\u001b[1;33m \u001b[0mwd\u001b[0m \u001b[1;33m=\u001b[0m \u001b[0mwebdriver\u001b[0m\u001b[1;33m.\u001b[0m\u001b[0mChrome\u001b[0m\u001b[1;33m(\u001b[0m\u001b[0mexecutable_path\u001b[0m\u001b[1;33m=\u001b[0m\u001b[0mDRIVER_PATH\u001b[0m\u001b[1;33m)\u001b[0m\u001b[1;33m\u001b[0m\u001b[1;33m\u001b[0m\u001b[0m\n\u001b[0m",
      "\u001b[1;31mNameError\u001b[0m: name 'webdriver' is not defined"
     ]
    }
   ],
   "source": [
    "wd = webdriver.Chrome(executable_path=DRIVER_PATH)"
   ]
  },
  {
   "cell_type": "code",
   "execution_count": 3,
   "metadata": {},
   "outputs": [
    {
     "ename": "NameError",
     "evalue": "name 'webdriver' is not defined",
     "output_type": "error",
     "traceback": [
      "\u001b[1;31m---------------------------------------------------------------------------\u001b[0m",
      "\u001b[1;31mNameError\u001b[0m                                 Traceback (most recent call last)",
      "\u001b[1;32m<ipython-input-3-6fae6806c786>\u001b[0m in \u001b[0;36m<module>\u001b[1;34m\u001b[0m\n\u001b[1;32m----> 1\u001b[1;33m \u001b[1;32mdef\u001b[0m \u001b[0mfetch_image_urls\u001b[0m\u001b[1;33m(\u001b[0m\u001b[0mquery\u001b[0m\u001b[1;33m:\u001b[0m\u001b[0mstr\u001b[0m\u001b[1;33m,\u001b[0m \u001b[0mmax_links_to_fetch\u001b[0m\u001b[1;33m:\u001b[0m\u001b[0mint\u001b[0m\u001b[1;33m,\u001b[0m \u001b[0mwd\u001b[0m\u001b[1;33m:\u001b[0m\u001b[0mwebdriver\u001b[0m\u001b[1;33m,\u001b[0m \u001b[0msleep_between_interactions\u001b[0m\u001b[1;33m:\u001b[0m\u001b[0mint\u001b[0m\u001b[1;33m=\u001b[0m\u001b[1;36m1\u001b[0m\u001b[1;33m)\u001b[0m\u001b[1;33m:\u001b[0m\u001b[1;33m\u001b[0m\u001b[1;33m\u001b[0m\u001b[0m\n\u001b[0m\u001b[0;32m      2\u001b[0m     \u001b[1;32mdef\u001b[0m \u001b[0mscroll_to_end\u001b[0m\u001b[1;33m(\u001b[0m\u001b[0mwd\u001b[0m\u001b[1;33m)\u001b[0m\u001b[1;33m:\u001b[0m\u001b[1;33m\u001b[0m\u001b[1;33m\u001b[0m\u001b[0m\n\u001b[0;32m      3\u001b[0m         \u001b[0mwd\u001b[0m\u001b[1;33m.\u001b[0m\u001b[0mexecute_script\u001b[0m\u001b[1;33m(\u001b[0m\u001b[1;34m\"window.scrollTo(0, document.body.scrollHeight);\"\u001b[0m\u001b[1;33m)\u001b[0m\u001b[1;33m\u001b[0m\u001b[1;33m\u001b[0m\u001b[0m\n\u001b[0;32m      4\u001b[0m         \u001b[0mtime\u001b[0m\u001b[1;33m.\u001b[0m\u001b[0msleep\u001b[0m\u001b[1;33m(\u001b[0m\u001b[0msleep_between_interactions\u001b[0m\u001b[1;33m)\u001b[0m\u001b[1;33m\u001b[0m\u001b[1;33m\u001b[0m\u001b[0m\n\u001b[0;32m      5\u001b[0m \u001b[1;33m\u001b[0m\u001b[0m\n",
      "\u001b[1;31mNameError\u001b[0m: name 'webdriver' is not defined"
     ]
    }
   ],
   "source": [
    "def fetch_image_urls(query:str, max_links_to_fetch:int, wd:webdriver, sleep_between_interactions:int=1):\n",
    "    def scroll_to_end(wd):\n",
    "        wd.execute_script(\"window.scrollTo(0, document.body.scrollHeight);\")\n",
    "        time.sleep(sleep_between_interactions)    \n",
    "    \n",
    "    # build the google query\n",
    "    search_url = \"https://www.google.com/search?safe=off&site=&tbm=isch&source=hp&q={q}&oq={q}&gs_l=img\"\n",
    "\n",
    "    # load the page\n",
    "    wd.get(search_url.format(q=query))\n",
    "\n",
    "    image_urls = set()\n",
    "    image_count = 0\n",
    "    results_start = 0\n",
    "    while image_count < max_links_to_fetch:\n",
    "        scroll_to_end(wd)\n",
    "\n",
    "        # get all image thumbnail results\n",
    "        thumbnail_results = wd.find_elements_by_css_selector(\"img.Q4LuWd\")\n",
    "        number_results = len(thumbnail_results)\n",
    "        \n",
    "        print(f\"Found: {number_results} search results. Extracting links from {results_start}:{number_results}\")\n",
    "        \n",
    "        for img in thumbnail_results[results_start:number_results]:\n",
    "            # try to click every thumbnail such that we can get the real image behind it\n",
    "            try:\n",
    "                img.click()\n",
    "                time.sleep(sleep_between_interactions)\n",
    "            except Exception:\n",
    "                continue\n",
    "\n",
    "            # extract image urls    \n",
    "            actual_images = wd.find_elements_by_css_selector('img.n3VNCb')\n",
    "            for actual_image in actual_images:\n",
    "                if actual_image.get_attribute('src') and 'http' in actual_image.get_attribute('src'):\n",
    "                    image_urls.add(actual_image.get_attribute('src'))\n",
    "\n",
    "            image_count = len(image_urls)\n",
    "\n",
    "            if len(image_urls) >= max_links_to_fetch:\n",
    "                print(f\"Found: {len(image_urls)} image links, done!\")\n",
    "                break\n",
    "        else:\n",
    "            print(\"Found:\", len(image_urls), \"image links, looking for more ...\")\n",
    "            time.sleep(30)\n",
    "            return\n",
    "            load_more_button = wd.find_element_by_css_selector(\".mye4qd\")\n",
    "            if load_more_button:\n",
    "                wd.execute_script(\"document.querySelector('.mye4qd').click();\")\n",
    "\n",
    "        # move the result startpoint further down\n",
    "        results_start = len(thumbnail_results)\n",
    "\n",
    "    return image_urls"
   ]
  },
  {
   "cell_type": "code",
   "execution_count": 4,
   "metadata": {},
   "outputs": [],
   "source": [
    "def persist_image(folder_path:str,url:str):\n",
    "    try:\n",
    "        image_content = requests.get(url).content\n",
    "\n",
    "    except Exception as e:\n",
    "        print(f\"ERROR - Could not download {url} - {e}\")\n",
    "\n",
    "    try:\n",
    "        image_file = io.BytesIO(image_content)\n",
    "        image = Image.open(image_file).convert('RGB')\n",
    "        file_path = os.path.join(folder_path,hashlib.sha1(image_content).hexdigest()[:10] + '.jpg')\n",
    "        with open(file_path, 'wb') as f:\n",
    "            image.save(f, \"JPEG\", quality=85)\n",
    "        print(f\"SUCCESS - saved {url} - as {file_path}\")\n",
    "    except Exception as e:\n",
    "        print(f\"ERROR - Could not save {url} - {e}\")"
   ]
  },
  {
   "cell_type": "code",
   "execution_count": 5,
   "metadata": {},
   "outputs": [],
   "source": [
    "def search_and_download(search_term:str,driver_path:str,target_path='./images',number_images=5):\n",
    "    target_folder = os.path.join(target_path,'_'.join(search_term.lower().split(' ')))\n",
    "\n",
    "    if not os.path.exists(target_folder):\n",
    "        os.makedirs(target_folder)\n",
    "\n",
    "    with webdriver.Chrome(executable_path=driver_path) as wd:\n",
    "        res = fetch_image_urls(search_term, number_images, wd=wd, sleep_between_interactions=0.5)\n",
    "        \n",
    "    for elem in res:\n",
    "        persist_image(target_folder,elem)"
   ]
  },
  {
   "cell_type": "code",
   "execution_count": 44,
   "metadata": {},
   "outputs": [
    {
     "name": "stdout",
     "output_type": "stream",
     "text": [
      "Found: 100 search results. Extracting links from 0:100\n",
      "Found: 51 image links, done!\n",
      "SUCCESS - saved https://encrypted-tbn0.gstatic.com/images?q=tbn%3AANd9GcRZiBA_lMhHkccLxdn1u1-vALiZnJeXNGkcew&usqp=CAU - as ./images\\elon_musk_face\\dc2f631813.jpg\n",
      "SUCCESS - saved https://img.etimg.com/thumb/msid-77163809,width-650,imgsize-136440,,resizemode-4,quality-100/elon-musk-afp1.jpg - as ./images\\elon_musk_face\\a1f29585a6.jpg\n",
      "SUCCESS - saved https://e3.365dm.com/19/10/2048x1152/skynews-elon-musk-spacex-tesla_4819427.jpg - as ./images\\elon_musk_face\\6e56e289db.jpg\n",
      "SUCCESS - saved https://encrypted-tbn0.gstatic.com/images?q=tbn%3AANd9GcScXpIQ9pWMgYkM43EytG2tnsS12mInSc5fug&usqp=CAU - as ./images\\elon_musk_face\\837a6b71a8.jpg\n",
      "SUCCESS - saved https://img.etimg.com/thumb/width-640,height-480,imgsize-116038,resizemode-1,msid-68175387/news/international/business/elon-musk-faces-us-contempt-claim-for-violating-accord-with-sec/untitled-11.jpg - as ./images\\elon_musk_face\\67b60ca290.jpg\n",
      "SUCCESS - saved https://encrypted-tbn0.gstatic.com/images?q=tbn%3AANd9GcSNtHdu07p3B1PfgkZiPMEfi0yr53gdgmIkCw&usqp=CAU - as ./images\\elon_musk_face\\7f160d8c3d.jpg\n",
      "SUCCESS - saved https://i.guim.co.uk/img/static/sys-images/Guardian/Pix/pictures/2013/7/17/1374074739277/Elon-Musk-001.jpg?width=700&quality=85&auto=format&fit=max&s=79f4f7b8c688b57c8082eb4cc45d653a - as ./images\\elon_musk_face\\73a5e7e9a1.jpg\n",
      "SUCCESS - saved https://encrypted-tbn0.gstatic.com/images?q=tbn%3AANd9GcRZh10ch-5n3Anh3fOfwpEUgBMpEoa7IQS57A&usqp=CAU - as ./images\\elon_musk_face\\af409ea348.jpg\n",
      "SUCCESS - saved https://e7.pngegg.com/pngimages/896/261/png-clipart-elon-musk-tesla-motors-investor-the-boring-company-spacex-others-face-head.png - as ./images\\elon_musk_face\\87d2cb9cfa.jpg\n",
      "SUCCESS - saved https://e7.pngegg.com/pngimages/171/786/png-clipart-elon-musk-tesla-motors-chief-executive-spacex-neuralink-others-face-head.png - as ./images\\elon_musk_face\\a516255b01.jpg\n",
      "SUCCESS - saved https://encrypted-tbn0.gstatic.com/images?q=tbn%3AANd9GcSd-CMYBkoUlEdZoNwZhyfZeS-gIrBXueXQnw&usqp=CAU - as ./images\\elon_musk_face\\e29a72b605.jpg\n",
      "SUCCESS - saved https://encrypted-tbn0.gstatic.com/images?q=tbn%3AANd9GcTBDDK_UHR-tXTlddSw1HkbTcFzDWoi0WJKDg&usqp=CAU - as ./images\\elon_musk_face\\bf6c1520a3.jpg\n",
      "SUCCESS - saved https://miro.medium.com/max/800/1*DChYYPZxxnQb8P9vplA9NQ.jpeg - as ./images\\elon_musk_face\\aa672ad74d.jpg\n",
      "SUCCESS - saved https://encrypted-tbn0.gstatic.com/images?q=tbn%3AANd9GcSri0HkXCYkD_0H-BW6jfoWmaNuaGRQraL0-Q&usqp=CAU - as ./images\\elon_musk_face\\8007117cbf.jpg\n",
      "SUCCESS - saved https://www.aljazeera.com/mritems/imagecache/mbdxxlarge/mritems/Images/2020/5/1/7830676f7ec643d5a157ae44decf2945_18.jpg - as ./images\\elon_musk_face\\bddcfd1c3c.jpg\n",
      "SUCCESS - saved https://media.vanityfair.com/photos/574f453fbdf148e4205f29df/3:2/w_768,c_limit/hive-contributor-profile-elon-musk.jpg - as ./images\\elon_musk_face\\92a70df80b.jpg\n",
      "SUCCESS - saved https://image.cnbcfm.com/api/v1/image/105289213-GettyImages-974732892.jpg?v=1535483335 - as ./images\\elon_musk_face\\0e0e6937d9.jpg\n",
      "SUCCESS - saved https://thumbor.forbes.com/thumbor/960x0/https%3A%2F%2Fblogs-images.forbes.com%2Fericmack%2Ffiles%2F2018%2F06%2Felons.jpg - as ./images\\elon_musk_face\\3c09d4437c.jpg\n",
      "SUCCESS - saved https://encrypted-tbn0.gstatic.com/images?q=tbn%3AANd9GcQABK2bXy3znGEoKLF5GmpCmnOqpnRf-o4_4A&usqp=CAU - as ./images\\elon_musk_face\\f6e7335f6e.jpg\n",
      "SUCCESS - saved https://images-na.ssl-images-amazon.com/images/I/616Kidw%2Bf6L._AC_SX522_.jpg - as ./images\\elon_musk_face\\d2fa16ddb1.jpg\n",
      "SUCCESS - saved https://i.insider.com/5d10a8a597ad7650f7026ef2?width=1100&format=jpeg&auto=webp - as ./images\\elon_musk_face\\42fe2e873f.jpg\n",
      "SUCCESS - saved https://encrypted-tbn0.gstatic.com/images?q=tbn%3AANd9GcTH_voboQe5IIg_df71xKZR5DGsUNVuiMa6Zg&usqp=CAU - as ./images\\elon_musk_face\\c51c83bf32.jpg\n",
      "SUCCESS - saved https://i.ytimg.com/vi/WHwQeetjLwk/maxresdefault.jpg - as ./images\\elon_musk_face\\7691f9b592.jpg\n",
      "SUCCESS - saved https://thefederal.com/file/2020/06/eight_col_068_AA_10032020_39852-696x464.jpg - as ./images\\elon_musk_face\\0f60555a15.jpg\n",
      "SUCCESS - saved https://i1.wp.com/techgrabyte.com/wp-content/uploads/2020/02/Jeff-Bezos-and-Elon-Musk-face-off-in-disturbing-Star-Trek-deepfake-video.jpg?fit=759%2C422&ssl=1 - as ./images\\elon_musk_face\\c87080f3ef.jpg\n",
      "SUCCESS - saved https://encrypted-tbn0.gstatic.com/images?q=tbn%3AANd9GcSylzXvSRdEWXhL9axBRXGoOCTGwsb6TBLlRg&usqp=CAU - as ./images\\elon_musk_face\\2037060533.jpg\n",
      "SUCCESS - saved https://encrypted-tbn0.gstatic.com/images?q=tbn%3AANd9GcTw3ZXp889qNHzTPMBOA6bTAkpay63YUtYRPw&usqp=CAU - as ./images\\elon_musk_face\\5842f754cc.jpg\n",
      "SUCCESS - saved https://encrypted-tbn0.gstatic.com/images?q=tbn%3AANd9GcRnCLQpfP2m_PMX9MnXpFv5iyWHXNX8NWeBWw&usqp=CAU - as ./images\\elon_musk_face\\93d8ea72ed.jpg\n",
      "SUCCESS - saved https://encrypted-tbn0.gstatic.com/images?q=tbn%3AANd9GcTLI1w7c670G0MSI5y6Ns7Uk_JCjI9BcXSRWA&usqp=CAU - as ./images\\elon_musk_face\\564d14034b.jpg\n",
      "SUCCESS - saved https://i.insider.com/5c4f647e2bdd7f56e244ccc5?width=1100&format=jpeg&auto=webp - as ./images\\elon_musk_face\\6646ceea9e.jpg\n",
      "SUCCESS - saved https://encrypted-tbn0.gstatic.com/images?q=tbn%3AANd9GcSJowut5zflzj7j3uUrJ9Gu8eCwQ70uKmI-Ow&usqp=CAU - as ./images\\elon_musk_face\\4b638e8412.jpg\n",
      "SUCCESS - saved https://encrypted-tbn0.gstatic.com/images?q=tbn%3AANd9GcT0HDShvPgbIgggVHAqPTD5bzAjhtyshevfWA&usqp=CAU - as ./images\\elon_musk_face\\34f3f59185.jpg\n",
      "SUCCESS - saved https://encrypted-tbn0.gstatic.com/images?q=tbn%3AANd9GcRBD9PteTz_ZfjByfDWmwIU4kP2zaIKHn-31w&usqp=CAU - as ./images\\elon_musk_face\\fda0b57495.jpg\n",
      "SUCCESS - saved https://encrypted-tbn0.gstatic.com/images?q=tbn%3AANd9GcToUpHxWz96cGv4eM6XnEPnMSEVa-F5awRS4Q&usqp=CAU - as ./images\\elon_musk_face\\c6144fb034.jpg\n",
      "SUCCESS - saved https://www.elitereaders.com/wp-content/uploads/2018/06/elon-musk-god-face.jpg - as ./images\\elon_musk_face\\23047f4e13.jpg\n",
      "SUCCESS - saved https://img2.pngio.com/elon-musk-png-elon-musk-face-png-free-transparent-png-download-musk-png-820_677.png - as ./images\\elon_musk_face\\733c8cd643.jpg\n",
      "SUCCESS - saved https://encrypted-tbn0.gstatic.com/images?q=tbn%3AANd9GcRCcCeLJJ1--pFOqb1k3RRsRl5hivG5ArZ4Hg&usqp=CAU - as ./images\\elon_musk_face\\91d40a8dd0.jpg\n",
      "SUCCESS - saved https://encrypted-tbn0.gstatic.com/images?q=tbn%3AANd9GcSIBXHZglV-Bu6-ibefZIPgzWTybTpzmxBuAg&usqp=CAU - as ./images\\elon_musk_face\\7bca53dd26.jpg\n",
      "SUCCESS - saved https://encrypted-tbn0.gstatic.com/images?q=tbn%3AANd9GcTe3PX-lb95cxADZ_XD6_9tSz0XH5gYLBou2A&usqp=CAU - as ./images\\elon_musk_face\\2281e20d98.jpg\n",
      "SUCCESS - saved https://i.insider.com/5df18925fd9db27e786eac82?width=1100&format=jpeg&auto=webp - as ./images\\elon_musk_face\\b7af56e015.jpg\n",
      "SUCCESS - saved https://encrypted-tbn0.gstatic.com/images?q=tbn%3AANd9GcSGYDHmSVEr6i0csw61hW-zQedjDMnqzjA5iw&usqp=CAU - as ./images\\elon_musk_face\\3c3c1e83ba.jpg\n",
      "SUCCESS - saved https://images-na.ssl-images-amazon.com/images/I/61odEm6kxAL._AC_SX679_.jpg - as ./images\\elon_musk_face\\43f63cde6d.jpg\n",
      "SUCCESS - saved https://encrypted-tbn0.gstatic.com/images?q=tbn%3AANd9GcSrEc_xruQxDqXevKLamh9B9nPxZrzjF8ETQw&usqp=CAU - as ./images\\elon_musk_face\\fdbe8c2643.jpg\n",
      "SUCCESS - saved https://encrypted-tbn0.gstatic.com/images?q=tbn%3AANd9GcQYHKcP0G-RQv_OpcXVFAuvRkYsIYS_ZRE4KA&usqp=CAU - as ./images\\elon_musk_face\\84e15e3569.jpg\n",
      "SUCCESS - saved https://media.wired.com/photos/5d2f73c9d757370008b014ae/master/pass/Science-TechinTwo-1130604487-(1).jpg - as ./images\\elon_musk_face\\8a0fdab4a8.jpg\n",
      "SUCCESS - saved https://encrypted-tbn0.gstatic.com/images?q=tbn%3AANd9GcRnghDZ7k9hE_bOs0IWh2c--P9JtSq4FYzdMw&usqp=CAU - as ./images\\elon_musk_face\\cf74ad1e86.jpg\n",
      "SUCCESS - saved https://encrypted-tbn0.gstatic.com/images?q=tbn%3AANd9GcS1M1HXzh_HTT4qH5kB6w2SCUcPFoidQyqU7g&usqp=CAU - as ./images\\elon_musk_face\\34ebade850.jpg\n",
      "SUCCESS - saved https://cdn.goliath.com/eyJidWNrZXQiOiJwdWItc3RvcmFnZSIsImtleSI6ImdvbGlhdGgvd3AtY29udGVudC91cGxvYWRzLzIwMTkvMDMvZWxvbi1tdXNrLWhvc3RzLW1lbWUtcmV2aWV3LmpwZyIsImVkaXRzIjp7InJlc2l6ZSI6eyJ3aWR0aCI6ODk1LCJoZWlnaHQiOjQ4MCwiZml0IjoiY292ZXIiLCJiYWNrZ3JvdW5kIjp7InIiOjAsImciOjAsImIiOjAsImFscGhhIjoxfSwicG9zaXRpb24iOiJ0b3AifX19 - as ./images\\elon_musk_face\\12e5305945.jpg\n",
      "SUCCESS - saved https://encrypted-tbn0.gstatic.com/images?q=tbn%3AANd9GcSQNNA9jxLL2O5MsdnkiIMqHpZK0mVewdvNCA&usqp=CAU - as ./images\\elon_musk_face\\86a386d94c.jpg\n"
     ]
    },
    {
     "name": "stdout",
     "output_type": "stream",
     "text": [
      "SUCCESS - saved https://www.gannett-cdn.com/presto/2019/08/18/USAT/adad9ebd-0eea-4d46-aa29-0f1087d3a5f7-AFP_AFP_1IU935.JPG - as ./images\\elon_musk_face\\0a18942ef4.jpg\n",
      "SUCCESS - saved https://images.wsj.net/im-21488?width=620&size=1.5 - as ./images\\elon_musk_face\\5b583a5747.jpg\n"
     ]
    }
   ],
   "source": [
    "search_term = 'Elon Musk face'\n",
    "\n",
    "search_and_download(search_term = search_term,\n",
    "                   driver_path=DRIVER_PATH,number_images=50)"
   ]
  },
  {
   "cell_type": "code",
   "execution_count": 47,
   "metadata": {},
   "outputs": [],
   "source": [
    "for filename in os.listdir('./images/elon_musk_face/'):\n",
    "  if filename.endswith('.jpg'):\n",
    "    try:\n",
    "      img = Image.open('./images/elon_musk_face/'+filename) # open the image file\n",
    "      img.verify() # verify that it is, in fact an image\n",
    "    except (IOError, SyntaxError) as e:\n",
    "      print('Bad file:', filename)"
   ]
  },
  {
   "cell_type": "code",
   "execution_count": null,
   "metadata": {},
   "outputs": [],
   "source": []
  }
 ],
 "metadata": {
  "kernelspec": {
   "display_name": "tfcuda",
   "language": "python",
   "name": "tfcuda"
  },
  "language_info": {
   "codemirror_mode": {
    "name": "ipython",
    "version": 3
   },
   "file_extension": ".py",
   "mimetype": "text/x-python",
   "name": "python",
   "nbconvert_exporter": "python",
   "pygments_lexer": "ipython3",
   "version": "3.7.7"
  }
 },
 "nbformat": 4,
 "nbformat_minor": 4
}
